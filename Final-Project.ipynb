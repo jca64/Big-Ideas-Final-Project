{
 "cells": [
  {
   "cell_type": "markdown",
   "metadata": {},
   "source": [
    "# Introduction:\n",
    "\n",
    "In this project, we set out to find which neighborhood, in the Pittsburgh area, is the best to live in. We started by creating our metric \"Overall Quality of Life\" which is formed by our three submetrics. These submetrics are crime rate, education quality, and local income. By scoring each of the neighborhoods in these categories and finding which neighborhood has the best score overall, we will decide which is the best to live in!"
   ]
  },
  {
   "cell_type": "markdown",
   "metadata": {},
   "source": [
    "# **The Metric:**\n",
    "\n",
    "#### **Overall Quality of Life**\n",
    "\n",
    "This is our overall metric which is comprised of a highest sum of the three submetrics. We chose these three submetrics as they are very easy to consolidate and produce a good general idea of which neighborhood is the best.\n",
    "\n",
    "#### **Crime Rates**\n",
    "\n",
    "By looking at all of the arrests in the Pittsburgh area from August 2016 to present we will be able to see where arrestable offenses happen most frequently. This will then allow us to create a score where the neighborhood with the least crime receives the highest rating.\n",
    "\n",
    "#### **Education Quality**\n",
    "\n",
    "More in depth description here\n",
    "\n",
    "#### **Local Income**\n",
    "\n",
    "More in depth description here"
   ]
  },
  {
   "cell_type": "markdown",
   "metadata": {},
   "source": [
    "# **The Best Neighborhood:**\n",
    "\n",
    "We can Update this tomorrow once we actually have an idea of which neighborhood is the best"
   ]
  },
  {
   "cell_type": "markdown",
   "metadata": {},
   "source": [
    "# **Conclusion:**\n",
    "\n",
    "Again, we will fix this tomorrow. Probably something like \"We liked Oakland the best before but now that we have this data...\""
   ]
  }
 ],
 "metadata": {
  "kernelspec": {
   "display_name": "Python 3",
   "language": "python",
   "name": "python3"
  },
  "language_info": {
   "codemirror_mode": {
    "name": "ipython",
    "version": 3
   },
   "file_extension": ".py",
   "mimetype": "text/x-python",
   "name": "python",
   "nbconvert_exporter": "python",
   "pygments_lexer": "ipython3",
   "version": "3.8.3"
  }
 },
 "nbformat": 4,
 "nbformat_minor": 4
}
